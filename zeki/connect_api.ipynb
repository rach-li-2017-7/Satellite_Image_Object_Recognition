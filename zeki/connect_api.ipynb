{
 "cells": [
  {
   "cell_type": "code",
   "execution_count": 1,
   "metadata": {},
   "outputs": [
    {
     "name": "stdout",
     "output_type": "stream",
     "text": [
      "/Users/zekiyan/Library/CloudStorage/GoogleDrive-zettayan@gmail.com/My Drive/Entrepreneur/Sundai/Projects/Satellite_Image_Object_Recognition\n"
     ]
    }
   ],
   "source": [
    "cd /Users/zekiyan/Library/CloudStorage/GoogleDrive-zettayan@gmail.com/My\\ Drive/Entrepreneur/Sundai/Projects/Satellite_Image_Object_Recognition"
   ]
  },
  {
   "cell_type": "code",
   "execution_count": 2,
   "metadata": {},
   "outputs": [],
   "source": [
    "import ee\n",
    "\n",
    "# Authenticate your Google account\n",
    "ee.Authenticate()\n",
    "\n",
    "# Initialize Earth Engine\n",
    "ee.Initialize()"
   ]
  },
  {
   "cell_type": "code",
   "execution_count": 3,
   "metadata": {},
   "outputs": [
    {
     "name": "stdout",
     "output_type": "stream",
     "text": [
      "Google Earth Engine API is successfully installed and initialized!\n"
     ]
    }
   ],
   "source": [
    "import ee\n",
    "ee.Initialize()\n",
    "\n",
    "print(\"Google Earth Engine API is successfully installed and initialized!\")"
   ]
  },
  {
   "cell_type": "code",
   "execution_count": 4,
   "metadata": {},
   "outputs": [
    {
     "data": {
      "application/vnd.jupyter.widget-view+json": {
       "model_id": "a0a96dc9c8c64757aa9a511db4a655ea",
       "version_major": 2,
       "version_minor": 0
      },
      "text/plain": [
       "Map(center=[37.8719, -122.262], controls=(WidgetControl(options=['position', 'transparent_bg'], widget=SearchD…"
      ]
     },
     "metadata": {},
     "output_type": "display_data"
    }
   ],
   "source": [
    "import ee\n",
    "import geemap\n",
    "\n",
    "# Authenticate and initialize Earth Engine\n",
    "try:\n",
    "    ee.Initialize()\n",
    "except Exception as e:\n",
    "    ee.Authenticate()\n",
    "    ee.Initialize()\n",
    "\n",
    "# Load Landsat 8 Collection 2 Tier 1 Surface Reflectance Image Collection\n",
    "landsat = ee.ImageCollection('LANDSAT/LC08/C02/T1_L2') \\\n",
    "    .filterDate('2023-01-01', '2023-12-31') \\\n",
    "    .filterBounds(ee.Geometry.Point(-122.262, 37.8719)) \\\n",
    "    .median()\n",
    "\n",
    "# Define visualization parameters\n",
    "vis_params = {\n",
    "    'bands': ['SR_B4', 'SR_B3', 'SR_B2'],  # Surface Reflectance Red, Green, Blue bands\n",
    "    'min': 0,\n",
    "    'max': 3000,\n",
    "    'gamma': 1.4\n",
    "}\n",
    "\n",
    "# Create a map centered on the specified location\n",
    "Map = geemap.Map(center=[37.8719, -122.262], zoom=8)\n",
    "Map.addLayer(landsat, vis_params, 'Landsat 8 Surface Reflectance')\n",
    "Map.add_basemap('SATELLITE')\n",
    "\n",
    "# Display the map\n",
    "Map"
   ]
  }
 ],
 "metadata": {
  "kernelspec": {
   "display_name": "base",
   "language": "python",
   "name": "python3"
  },
  "language_info": {
   "codemirror_mode": {
    "name": "ipython",
    "version": 3
   },
   "file_extension": ".py",
   "mimetype": "text/x-python",
   "name": "python",
   "nbconvert_exporter": "python",
   "pygments_lexer": "ipython3",
   "version": "3.11.8"
  }
 },
 "nbformat": 4,
 "nbformat_minor": 2
}
